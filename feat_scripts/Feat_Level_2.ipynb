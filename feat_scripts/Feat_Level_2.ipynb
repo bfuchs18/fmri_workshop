{
 "cells": [
  {
   "cell_type": "markdown",
   "metadata": {
    "collapsed": true
   },
   "source": [
    "# Level 2 FEAT setup! (assuming we have multiple runs per subject)"
   ]
  },
  {
   "cell_type": "markdown",
   "metadata": {},
   "source": [
    "If we have multiple runs per subject we want to average the output per subject before running our level 3 feat analysis. This will make the set up of the level 3 model a bit easier."
   ]
  },
  {
   "cell_type": "markdown",
   "metadata": {},
   "source": [
    "Again, let's fire up the GUI to get an idea of what we are trying to accomplish before we start writing our python code"
   ]
  },
  {
   "cell_type": "markdown",
   "metadata": {},
   "source": [
    "## The data tab"
   ]
  },
  {
   "cell_type": "markdown",
   "metadata": {},
   "source": [
    "![](https://github.com/grace-shearrer/nibl_workshop/blob/master/feat2_data.png?raw=true)"
   ]
  },
  {
   "cell_type": "markdown",
   "metadata": {},
   "source": [
    "* You should first notice that I have changed up top tab to \"Higher-level analysis.\"\n",
    "* In doing this I now have greyed out the pre-stats and registration tab\n",
    "* We are going to use lower level feat directories as the inputs \n",
    "* I don't know why but the GUI doesn't let me change the 3 to a 2, we will need to alter that in the fsf file. Thank goodness we aren't using the GUI!\n",
    "* Looks like we will also need an output directory"
   ]
  },
  {
   "cell_type": "markdown",
   "metadata": {},
   "source": [
    "## Stats tab! "
   ]
  },
  {
   "cell_type": "markdown",
   "metadata": {},
   "source": [
    "![](https://github.com/grace-shearrer/nibl_workshop/blob/master/feat2_stats.png?raw=true)"
   ]
  },
  {
   "cell_type": "markdown",
   "metadata": {},
   "source": [
    "We are going to be running a fixed effects model this time around.\n",
    "### Concept Check: What is the difference between fixed effects and say OLS? Why isn't this part not a mixed model?"
   ]
  },
  {
   "cell_type": "markdown",
   "metadata": {},
   "source": [
    "![](https://github.com/grace-shearrer/nibl_workshop/blob/master/feat2_evs.png?raw=true)"
   ]
  },
  {
   "cell_type": "markdown",
   "metadata": {},
   "source": [
    "For our EVs we are only going to have 2. The GUI though will try to force you to have 3. We need to have this in the back of our minds while editing the fsf file. To remind myself, I leave the last part as a 0."
   ]
  },
  {
   "cell_type": "markdown",
   "metadata": {},
   "source": [
    "## Concept Check: We want the mean of our two runs. What will our contrast look like?"
   ]
  },
  {
   "cell_type": "markdown",
   "metadata": {},
   "source": [
    "![](https://github.com/grace-shearrer/nibl_workshop/blob/master/feat2_con.png?raw=true)"
   ]
  },
  {
   "cell_type": "markdown",
   "metadata": {},
   "source": [
    "Ah, the world's easiest contrast"
   ]
  },
  {
   "cell_type": "markdown",
   "metadata": {},
   "source": [
    "## Post Stats!"
   ]
  },
  {
   "cell_type": "markdown",
   "metadata": {},
   "source": [
    "![](https://github.com/grace-shearrer/nibl_workshop/blob/master/feat2_post.png?raw=true)"
   ]
  },
  {
   "cell_type": "markdown",
   "metadata": {},
   "source": [
    "![](http://s.quickmeme.com/img/15/154a2f063fa5a997578aaaed117c3b82e47c73733a5a90107df4b11b86fe697c.jpg)"
   ]
  },
  {
<<<<<<< HEAD
=======
   "cell_type": "markdown",
   "metadata": {},
   "source": [
    "## Ok, lets recap what all we need to do"
   ]
  },
  {
   "cell_type": "markdown",
   "metadata": {},
   "source": [
    "* __CHANGE THE NUMBER OF INPUTS TO 2__\n",
    "* Add both feat directories as inputs\n",
    "* Add an output directory\n",
    "* __DELETE EXTRA EV FROM STATS__"
   ]
  },
  {
   "cell_type": "markdown",
   "metadata": {},
   "source": [
    "## Concept Check: Open up an fsf file and add your variables."
   ]
  },
  {
   "cell_type": "markdown",
   "metadata": {},
   "source": [
    "## Concept Check: How are we going to use python to change out these variables we have now coded in? What python data type (string, integer, dictionary, list, boolean) will need to generate in our script?"
   ]
  },
  {
>>>>>>> d312e10b016610fba2335ab012872035fc8ffe69
   "cell_type": "code",
   "execution_count": null,
   "metadata": {
    "collapsed": true
   },
   "outputs": [],
   "source": []
  }
 ],
 "metadata": {
  "kernelspec": {
   "display_name": "Python 2",
   "language": "python",
   "name": "python2"
  },
  "language_info": {
   "codemirror_mode": {
    "name": "ipython",
    "version": 2
   },
   "file_extension": ".py",
   "mimetype": "text/x-python",
   "name": "python",
   "nbconvert_exporter": "python",
   "pygments_lexer": "ipython2",
   "version": "2.7.14"
  }
 },
 "nbformat": 4,
 "nbformat_minor": 2
}
